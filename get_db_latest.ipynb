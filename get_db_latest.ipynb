{
 "cells": [
  {
   "cell_type": "code",
   "execution_count": 2,
   "metadata": {},
   "outputs": [
    {
     "name": "stdout",
     "output_type": "stream",
     "text": [
      "Defaulting to user installation because normal site-packages is not writeable\n",
      "Requirement already satisfied: pandas in c:\\users\\rjayaprakash\\appdata\\roaming\\python\\python311\\site-packages (2.1.1)\n",
      "Requirement already satisfied: numpy>=1.23.2 in c:\\users\\rjayaprakash\\appdata\\roaming\\python\\python311\\site-packages (from pandas) (1.26.0)\n",
      "Requirement already satisfied: python-dateutil>=2.8.2 in c:\\users\\rjayaprakash\\appdata\\roaming\\python\\python311\\site-packages (from pandas) (2.8.2)\n",
      "Requirement already satisfied: pytz>=2020.1 in c:\\users\\rjayaprakash\\appdata\\roaming\\python\\python311\\site-packages (from pandas) (2023.3.post1)\n",
      "Requirement already satisfied: tzdata>=2022.1 in c:\\users\\rjayaprakash\\appdata\\roaming\\python\\python311\\site-packages (from pandas) (2023.3)\n",
      "Requirement already satisfied: six>=1.5 in c:\\users\\rjayaprakash\\appdata\\roaming\\python\\python311\\site-packages (from python-dateutil>=2.8.2->pandas) (1.16.0)\n",
      "Note: you may need to restart the kernel to use updated packages.\n"
     ]
    }
   ],
   "source": [
    "%pip install pandas"
   ]
  },
  {
   "cell_type": "code",
   "execution_count": 3,
   "metadata": {},
   "outputs": [],
   "source": [
    "import pandas as pd"
   ]
  },
  {
   "cell_type": "code",
   "execution_count": 4,
   "metadata": {},
   "outputs": [],
   "source": [
    "def read_sqlite(dbfile):\n",
    "    import sqlite3\n",
    "    from pandas import read_sql_query, read_sql_table\n",
    "\n",
    "    with sqlite3.connect(dbfile) as dbcon:\n",
    "        tables = list(read_sql_query(\"SELECT name FROM sqlite_master WHERE type='table';\", dbcon)['name'])\n",
    "        out = {tbl : read_sql_query(f\"SELECT * from {tbl}\", dbcon) for tbl in tables}\n",
    "\n",
    "    return out"
   ]
  },
  {
   "cell_type": "code",
   "execution_count": 5,
   "metadata": {},
   "outputs": [],
   "source": [
    "db = read_sqlite(\"../input_files/steel_moment_axial_combos_oct6_2.db\")"
   ]
  },
  {
   "cell_type": "code",
   "execution_count": 6,
   "metadata": {},
   "outputs": [
    {
     "data": {
      "text/plain": [
       "dict_keys(['Wshapes_Table6_1', 'wShapes'])"
      ]
     },
     "execution_count": 6,
     "metadata": {},
     "output_type": "execute_result"
    }
   ],
   "source": [
    "db.keys()"
   ]
  },
  {
   "cell_type": "code",
   "execution_count": 7,
   "metadata": {},
   "outputs": [
    {
     "data": {
      "text/plain": [
       "(2589600, 9)"
      ]
     },
     "execution_count": 7,
     "metadata": {},
     "output_type": "execute_result"
    }
   ],
   "source": [
    "w_shapes = db['wShapes']\n",
    "w_shapes.shape"
   ]
  },
  {
   "cell_type": "code",
   "execution_count": 8,
   "metadata": {},
   "outputs": [
    {
     "data": {
      "text/plain": [
       "(6139000, 9)"
      ]
     },
     "execution_count": 8,
     "metadata": {},
     "output_type": "execute_result"
    }
   ],
   "source": [
    "Wshapes_Table6_1 = db['Wshapes_Table6_1']\n",
    "Wshapes_Table6_1.shape"
   ]
  },
  {
   "cell_type": "code",
   "execution_count": 9,
   "metadata": {},
   "outputs": [
    {
     "data": {
      "text/html": [
       "<div>\n",
       "<style scoped>\n",
       "    .dataframe tbody tr th:only-of-type {\n",
       "        vertical-align: middle;\n",
       "    }\n",
       "\n",
       "    .dataframe tbody tr th {\n",
       "        vertical-align: top;\n",
       "    }\n",
       "\n",
       "    .dataframe thead th {\n",
       "        text-align: right;\n",
       "    }\n",
       "</style>\n",
       "<table border=\"1\" class=\"dataframe\">\n",
       "  <thead>\n",
       "    <tr style=\"text-align: right;\">\n",
       "      <th></th>\n",
       "      <th>profile</th>\n",
       "      <th>length_ft</th>\n",
       "      <th>weight_plf</th>\n",
       "      <th>Cb</th>\n",
       "      <th>Pr_over_Pc</th>\n",
       "      <th>Pr_k</th>\n",
       "      <th>Pc_k</th>\n",
       "      <th>Mmax_ftk</th>\n",
       "      <th>Mc_ftk</th>\n",
       "    </tr>\n",
       "  </thead>\n",
       "  <tbody>\n",
       "    <tr>\n",
       "      <th>0</th>\n",
       "      <td>W44X290</td>\n",
       "      <td>0</td>\n",
       "      <td>290.63328</td>\n",
       "      <td>1.0</td>\n",
       "      <td>0.0</td>\n",
       "      <td>0.0</td>\n",
       "      <td>2397.118549</td>\n",
       "      <td>3517.964072</td>\n",
       "      <td>3517.964072</td>\n",
       "    </tr>\n",
       "    <tr>\n",
       "      <th>1</th>\n",
       "      <td>W44X290</td>\n",
       "      <td>0</td>\n",
       "      <td>290.63328</td>\n",
       "      <td>1.1</td>\n",
       "      <td>0.0</td>\n",
       "      <td>0.0</td>\n",
       "      <td>2397.118549</td>\n",
       "      <td>3517.964072</td>\n",
       "      <td>3517.964072</td>\n",
       "    </tr>\n",
       "    <tr>\n",
       "      <th>2</th>\n",
       "      <td>W44X290</td>\n",
       "      <td>0</td>\n",
       "      <td>290.63328</td>\n",
       "      <td>1.2</td>\n",
       "      <td>0.0</td>\n",
       "      <td>0.0</td>\n",
       "      <td>2397.118549</td>\n",
       "      <td>3517.964072</td>\n",
       "      <td>3517.964072</td>\n",
       "    </tr>\n",
       "    <tr>\n",
       "      <th>3</th>\n",
       "      <td>W44X290</td>\n",
       "      <td>0</td>\n",
       "      <td>290.63328</td>\n",
       "      <td>1.3</td>\n",
       "      <td>0.0</td>\n",
       "      <td>0.0</td>\n",
       "      <td>2397.118549</td>\n",
       "      <td>3517.964072</td>\n",
       "      <td>3517.964072</td>\n",
       "    </tr>\n",
       "    <tr>\n",
       "      <th>4</th>\n",
       "      <td>W44X290</td>\n",
       "      <td>0</td>\n",
       "      <td>290.63328</td>\n",
       "      <td>1.4</td>\n",
       "      <td>0.0</td>\n",
       "      <td>0.0</td>\n",
       "      <td>2397.118549</td>\n",
       "      <td>3517.964072</td>\n",
       "      <td>3517.964072</td>\n",
       "    </tr>\n",
       "  </tbody>\n",
       "</table>\n",
       "</div>"
      ],
      "text/plain": [
       "   profile  length_ft  weight_plf   Cb  Pr_over_Pc  Pr_k         Pc_k  \\\n",
       "0  W44X290          0   290.63328  1.0         0.0   0.0  2397.118549   \n",
       "1  W44X290          0   290.63328  1.1         0.0   0.0  2397.118549   \n",
       "2  W44X290          0   290.63328  1.2         0.0   0.0  2397.118549   \n",
       "3  W44X290          0   290.63328  1.3         0.0   0.0  2397.118549   \n",
       "4  W44X290          0   290.63328  1.4         0.0   0.0  2397.118549   \n",
       "\n",
       "      Mmax_ftk       Mc_ftk  \n",
       "0  3517.964072  3517.964072  \n",
       "1  3517.964072  3517.964072  \n",
       "2  3517.964072  3517.964072  \n",
       "3  3517.964072  3517.964072  \n",
       "4  3517.964072  3517.964072  "
      ]
     },
     "execution_count": 9,
     "metadata": {},
     "output_type": "execute_result"
    }
   ],
   "source": [
    "w_shapes.head()"
   ]
  },
  {
   "cell_type": "code",
   "execution_count": 10,
   "metadata": {},
   "outputs": [
    {
     "data": {
      "text/html": [
       "<div>\n",
       "<style scoped>\n",
       "    .dataframe tbody tr th:only-of-type {\n",
       "        vertical-align: middle;\n",
       "    }\n",
       "\n",
       "    .dataframe tbody tr th {\n",
       "        vertical-align: top;\n",
       "    }\n",
       "\n",
       "    .dataframe thead th {\n",
       "        text-align: right;\n",
       "    }\n",
       "</style>\n",
       "<table border=\"1\" class=\"dataframe\">\n",
       "  <thead>\n",
       "    <tr style=\"text-align: right;\">\n",
       "      <th></th>\n",
       "      <th>profile</th>\n",
       "      <th>length_ft</th>\n",
       "      <th>weight_plf</th>\n",
       "      <th>Cb</th>\n",
       "      <th>Pr_over_Pc</th>\n",
       "      <th>Pr_k</th>\n",
       "      <th>Pc_k</th>\n",
       "      <th>Mmax_ftk</th>\n",
       "      <th>Mc_ftk</th>\n",
       "    </tr>\n",
       "  </thead>\n",
       "  <tbody>\n",
       "    <tr>\n",
       "      <th>0</th>\n",
       "      <td>W44X335</td>\n",
       "      <td>0</td>\n",
       "      <td>335</td>\n",
       "      <td>1.0</td>\n",
       "      <td>0.0</td>\n",
       "      <td>0.0</td>\n",
       "      <td>2890.17</td>\n",
       "      <td>4040.4</td>\n",
       "      <td>4040.4</td>\n",
       "    </tr>\n",
       "    <tr>\n",
       "      <th>1</th>\n",
       "      <td>W44X335</td>\n",
       "      <td>0</td>\n",
       "      <td>335</td>\n",
       "      <td>1.1</td>\n",
       "      <td>0.0</td>\n",
       "      <td>0.0</td>\n",
       "      <td>2890.17</td>\n",
       "      <td>4040.4</td>\n",
       "      <td>4040.4</td>\n",
       "    </tr>\n",
       "    <tr>\n",
       "      <th>2</th>\n",
       "      <td>W44X335</td>\n",
       "      <td>0</td>\n",
       "      <td>335</td>\n",
       "      <td>1.2</td>\n",
       "      <td>0.0</td>\n",
       "      <td>0.0</td>\n",
       "      <td>2890.17</td>\n",
       "      <td>4040.4</td>\n",
       "      <td>4040.4</td>\n",
       "    </tr>\n",
       "    <tr>\n",
       "      <th>3</th>\n",
       "      <td>W44X335</td>\n",
       "      <td>0</td>\n",
       "      <td>335</td>\n",
       "      <td>1.3</td>\n",
       "      <td>0.0</td>\n",
       "      <td>0.0</td>\n",
       "      <td>2890.17</td>\n",
       "      <td>4040.4</td>\n",
       "      <td>4040.4</td>\n",
       "    </tr>\n",
       "    <tr>\n",
       "      <th>4</th>\n",
       "      <td>W44X335</td>\n",
       "      <td>0</td>\n",
       "      <td>335</td>\n",
       "      <td>1.4</td>\n",
       "      <td>0.0</td>\n",
       "      <td>0.0</td>\n",
       "      <td>2890.17</td>\n",
       "      <td>4040.4</td>\n",
       "      <td>4040.4</td>\n",
       "    </tr>\n",
       "  </tbody>\n",
       "</table>\n",
       "</div>"
      ],
      "text/plain": [
       "   profile  length_ft  weight_plf   Cb  Pr_over_Pc  Pr_k     Pc_k  Mmax_ftk  \\\n",
       "0  W44X335          0         335  1.0         0.0   0.0  2890.17    4040.4   \n",
       "1  W44X335          0         335  1.1         0.0   0.0  2890.17    4040.4   \n",
       "2  W44X335          0         335  1.2         0.0   0.0  2890.17    4040.4   \n",
       "3  W44X335          0         335  1.3         0.0   0.0  2890.17    4040.4   \n",
       "4  W44X335          0         335  1.4         0.0   0.0  2890.17    4040.4   \n",
       "\n",
       "   Mc_ftk  \n",
       "0  4040.4  \n",
       "1  4040.4  \n",
       "2  4040.4  \n",
       "3  4040.4  \n",
       "4  4040.4  "
      ]
     },
     "execution_count": 10,
     "metadata": {},
     "output_type": "execute_result"
    }
   ],
   "source": [
    "Wshapes_Table6_1.head()"
   ]
  },
  {
   "cell_type": "code",
   "execution_count": 11,
   "metadata": {},
   "outputs": [],
   "source": [
    "primary_keys = ['profile', 'length_ft', 'Cb', 'Pr_over_Pc']\n",
    "\n",
    "merged_df = w_shapes.merge(Wshapes_Table6_1, on=primary_keys, suffixes=('_w_shapes', '_Wshapes_Table6_1'))"
   ]
  },
  {
   "cell_type": "code",
   "execution_count": 12,
   "metadata": {},
   "outputs": [
    {
     "data": {
      "text/plain": [
       "(514680, 14)"
      ]
     },
     "execution_count": 12,
     "metadata": {},
     "output_type": "execute_result"
    }
   ],
   "source": [
    "merged_df.shape"
   ]
  },
  {
   "cell_type": "code",
   "execution_count": 13,
   "metadata": {},
   "outputs": [
    {
     "data": {
      "text/html": [
       "<div>\n",
       "<style scoped>\n",
       "    .dataframe tbody tr th:only-of-type {\n",
       "        vertical-align: middle;\n",
       "    }\n",
       "\n",
       "    .dataframe tbody tr th {\n",
       "        vertical-align: top;\n",
       "    }\n",
       "\n",
       "    .dataframe thead th {\n",
       "        text-align: right;\n",
       "    }\n",
       "</style>\n",
       "<table border=\"1\" class=\"dataframe\">\n",
       "  <thead>\n",
       "    <tr style=\"text-align: right;\">\n",
       "      <th></th>\n",
       "      <th>profile</th>\n",
       "      <th>length_ft</th>\n",
       "      <th>weight_plf_w_shapes</th>\n",
       "      <th>Cb</th>\n",
       "      <th>Pr_over_Pc</th>\n",
       "      <th>Pr_k_w_shapes</th>\n",
       "      <th>Pc_k_w_shapes</th>\n",
       "      <th>Mmax_ftk_w_shapes</th>\n",
       "      <th>Mc_ftk_w_shapes</th>\n",
       "      <th>weight_plf_Wshapes_Table6_1</th>\n",
       "      <th>Pr_k_Wshapes_Table6_1</th>\n",
       "      <th>Pc_k_Wshapes_Table6_1</th>\n",
       "      <th>Mmax_ftk_Wshapes_Table6_1</th>\n",
       "      <th>Mc_ftk_Wshapes_Table6_1</th>\n",
       "    </tr>\n",
       "  </thead>\n",
       "  <tbody>\n",
       "    <tr>\n",
       "      <th>0</th>\n",
       "      <td>W44X290</td>\n",
       "      <td>0</td>\n",
       "      <td>290.63328</td>\n",
       "      <td>1.0</td>\n",
       "      <td>0.0</td>\n",
       "      <td>0.0</td>\n",
       "      <td>2397.118549</td>\n",
       "      <td>3517.964072</td>\n",
       "      <td>3517.964072</td>\n",
       "      <td>290</td>\n",
       "      <td>0.0</td>\n",
       "      <td>2398.08</td>\n",
       "      <td>3513.39</td>\n",
       "      <td>3513.39</td>\n",
       "    </tr>\n",
       "    <tr>\n",
       "      <th>1</th>\n",
       "      <td>W44X290</td>\n",
       "      <td>0</td>\n",
       "      <td>290.63328</td>\n",
       "      <td>1.1</td>\n",
       "      <td>0.0</td>\n",
       "      <td>0.0</td>\n",
       "      <td>2397.118549</td>\n",
       "      <td>3517.964072</td>\n",
       "      <td>3517.964072</td>\n",
       "      <td>290</td>\n",
       "      <td>0.0</td>\n",
       "      <td>2398.08</td>\n",
       "      <td>3513.39</td>\n",
       "      <td>3513.39</td>\n",
       "    </tr>\n",
       "    <tr>\n",
       "      <th>2</th>\n",
       "      <td>W44X290</td>\n",
       "      <td>0</td>\n",
       "      <td>290.63328</td>\n",
       "      <td>1.2</td>\n",
       "      <td>0.0</td>\n",
       "      <td>0.0</td>\n",
       "      <td>2397.118549</td>\n",
       "      <td>3517.964072</td>\n",
       "      <td>3517.964072</td>\n",
       "      <td>290</td>\n",
       "      <td>0.0</td>\n",
       "      <td>2398.08</td>\n",
       "      <td>3513.39</td>\n",
       "      <td>3513.39</td>\n",
       "    </tr>\n",
       "    <tr>\n",
       "      <th>3</th>\n",
       "      <td>W44X290</td>\n",
       "      <td>0</td>\n",
       "      <td>290.63328</td>\n",
       "      <td>1.3</td>\n",
       "      <td>0.0</td>\n",
       "      <td>0.0</td>\n",
       "      <td>2397.118549</td>\n",
       "      <td>3517.964072</td>\n",
       "      <td>3517.964072</td>\n",
       "      <td>290</td>\n",
       "      <td>0.0</td>\n",
       "      <td>2398.08</td>\n",
       "      <td>3513.39</td>\n",
       "      <td>3513.39</td>\n",
       "    </tr>\n",
       "    <tr>\n",
       "      <th>4</th>\n",
       "      <td>W44X290</td>\n",
       "      <td>0</td>\n",
       "      <td>290.63328</td>\n",
       "      <td>1.4</td>\n",
       "      <td>0.0</td>\n",
       "      <td>0.0</td>\n",
       "      <td>2397.118549</td>\n",
       "      <td>3517.964072</td>\n",
       "      <td>3517.964072</td>\n",
       "      <td>290</td>\n",
       "      <td>0.0</td>\n",
       "      <td>2398.08</td>\n",
       "      <td>3513.39</td>\n",
       "      <td>3513.39</td>\n",
       "    </tr>\n",
       "  </tbody>\n",
       "</table>\n",
       "</div>"
      ],
      "text/plain": [
       "   profile  length_ft  weight_plf_w_shapes   Cb  Pr_over_Pc  Pr_k_w_shapes  \\\n",
       "0  W44X290          0            290.63328  1.0         0.0            0.0   \n",
       "1  W44X290          0            290.63328  1.1         0.0            0.0   \n",
       "2  W44X290          0            290.63328  1.2         0.0            0.0   \n",
       "3  W44X290          0            290.63328  1.3         0.0            0.0   \n",
       "4  W44X290          0            290.63328  1.4         0.0            0.0   \n",
       "\n",
       "   Pc_k_w_shapes  Mmax_ftk_w_shapes  Mc_ftk_w_shapes  \\\n",
       "0    2397.118549        3517.964072      3517.964072   \n",
       "1    2397.118549        3517.964072      3517.964072   \n",
       "2    2397.118549        3517.964072      3517.964072   \n",
       "3    2397.118549        3517.964072      3517.964072   \n",
       "4    2397.118549        3517.964072      3517.964072   \n",
       "\n",
       "   weight_plf_Wshapes_Table6_1  Pr_k_Wshapes_Table6_1  Pc_k_Wshapes_Table6_1  \\\n",
       "0                          290                    0.0                2398.08   \n",
       "1                          290                    0.0                2398.08   \n",
       "2                          290                    0.0                2398.08   \n",
       "3                          290                    0.0                2398.08   \n",
       "4                          290                    0.0                2398.08   \n",
       "\n",
       "   Mmax_ftk_Wshapes_Table6_1  Mc_ftk_Wshapes_Table6_1  \n",
       "0                    3513.39                  3513.39  \n",
       "1                    3513.39                  3513.39  \n",
       "2                    3513.39                  3513.39  \n",
       "3                    3513.39                  3513.39  \n",
       "4                    3513.39                  3513.39  "
      ]
     },
     "execution_count": 13,
     "metadata": {},
     "output_type": "execute_result"
    }
   ],
   "source": [
    "merged_df.head()"
   ]
  },
  {
   "cell_type": "code",
   "execution_count": 14,
   "metadata": {},
   "outputs": [
    {
     "name": "stdout",
     "output_type": "stream",
     "text": [
      "Threshold constant: 5\n",
      "Number of passes: 514680\n",
      "Number of failures: 0\n",
      "Failed Items:\n"
     ]
    },
    {
     "data": {
      "text/html": [
       "<div>\n",
       "<style scoped>\n",
       "    .dataframe tbody tr th:only-of-type {\n",
       "        vertical-align: middle;\n",
       "    }\n",
       "\n",
       "    .dataframe tbody tr th {\n",
       "        vertical-align: top;\n",
       "    }\n",
       "\n",
       "    .dataframe thead th {\n",
       "        text-align: right;\n",
       "    }\n",
       "</style>\n",
       "<table border=\"1\" class=\"dataframe\">\n",
       "  <thead>\n",
       "    <tr style=\"text-align: right;\">\n",
       "      <th></th>\n",
       "      <th>profile</th>\n",
       "      <th>length_ft</th>\n",
       "      <th>weight_plf_w_shapes</th>\n",
       "      <th>Cb</th>\n",
       "      <th>Pr_over_Pc</th>\n",
       "      <th>Pr_k_w_shapes</th>\n",
       "      <th>Pc_k_w_shapes</th>\n",
       "      <th>Mmax_ftk_w_shapes</th>\n",
       "      <th>Mc_ftk_w_shapes</th>\n",
       "      <th>weight_plf_Wshapes_Table6_1</th>\n",
       "      <th>Pr_k_Wshapes_Table6_1</th>\n",
       "      <th>Pc_k_Wshapes_Table6_1</th>\n",
       "      <th>Mmax_ftk_Wshapes_Table6_1</th>\n",
       "      <th>Mc_ftk_Wshapes_Table6_1</th>\n",
       "    </tr>\n",
       "  </thead>\n",
       "  <tbody>\n",
       "  </tbody>\n",
       "</table>\n",
       "</div>"
      ],
      "text/plain": [
       "Empty DataFrame\n",
       "Columns: [profile, length_ft, weight_plf_w_shapes, Cb, Pr_over_Pc, Pr_k_w_shapes, Pc_k_w_shapes, Mmax_ftk_w_shapes, Mc_ftk_w_shapes, weight_plf_Wshapes_Table6_1, Pr_k_Wshapes_Table6_1, Pc_k_Wshapes_Table6_1, Mmax_ftk_Wshapes_Table6_1, Mc_ftk_Wshapes_Table6_1]\n",
       "Index: []"
      ]
     },
     "execution_count": 14,
     "metadata": {},
     "output_type": "execute_result"
    }
   ],
   "source": [
    "to_compare_columns = ['Pr_k', 'Pc_k', 'Mmax_ftk', 'Mc_ftk']\n",
    "\n",
    "passes = 0\n",
    "failures = 0\n",
    "\n",
    "failed_items = []\n",
    "\n",
    "for index, row in merged_df.iterrows():\n",
    "\n",
    "    # check the difference for each column in to_compare_columns\n",
    "    differences = [abs(row[f'{col}_w_shapes'] - row[f'{col}_Wshapes_Table6_1']) for col in to_compare_columns]\n",
    "\n",
    "    if all(diff <= 0.05 * max(row[f'{col}_w_shapes'], row[f'{col}_Wshapes_Table6_1']) for diff, col in zip(differences, to_compare_columns)):\n",
    "        passes += 1\n",
    "    else:\n",
    "        failures += 1\n",
    "        failed_items.append(index)\n",
    "\n",
    "print('Threshold constant: 5')\n",
    "print('Number of passes:', passes)\n",
    "print('Number of failures:', failures)\n",
    "print(\"Failed Items:\")\n",
    "merged_df.loc[failed_items]"
   ]
  },
  {
   "cell_type": "code",
   "execution_count": 15,
   "metadata": {},
   "outputs": [],
   "source": [
    "def calculate_percent_difference(x1, x2):\n",
    "    if x1 + x2 == 0:\n",
    "        return 0\n",
    "    return (abs(x1 - x2) / ((x1 + x2) / 2)) * 100"
   ]
  },
  {
   "cell_type": "code",
   "execution_count": 16,
   "metadata": {},
   "outputs": [
    {
     "name": "stdout",
     "output_type": "stream",
     "text": [
      "Threshold:  5.0\n",
      "Number of passes 2: 514680\n",
      "Number of failures 2: 0\n",
      "Failed Items 2:\n"
     ]
    },
    {
     "data": {
      "text/html": [
       "<div>\n",
       "<style scoped>\n",
       "    .dataframe tbody tr th:only-of-type {\n",
       "        vertical-align: middle;\n",
       "    }\n",
       "\n",
       "    .dataframe tbody tr th {\n",
       "        vertical-align: top;\n",
       "    }\n",
       "\n",
       "    .dataframe thead th {\n",
       "        text-align: right;\n",
       "    }\n",
       "</style>\n",
       "<table border=\"1\" class=\"dataframe\">\n",
       "  <thead>\n",
       "    <tr style=\"text-align: right;\">\n",
       "      <th></th>\n",
       "      <th>profile</th>\n",
       "      <th>length_ft</th>\n",
       "      <th>weight_plf_w_shapes</th>\n",
       "      <th>Cb</th>\n",
       "      <th>Pr_over_Pc</th>\n",
       "      <th>Pr_k_w_shapes</th>\n",
       "      <th>Pc_k_w_shapes</th>\n",
       "      <th>Mmax_ftk_w_shapes</th>\n",
       "      <th>Mc_ftk_w_shapes</th>\n",
       "      <th>weight_plf_Wshapes_Table6_1</th>\n",
       "      <th>Pr_k_Wshapes_Table6_1</th>\n",
       "      <th>Pc_k_Wshapes_Table6_1</th>\n",
       "      <th>Mmax_ftk_Wshapes_Table6_1</th>\n",
       "      <th>Mc_ftk_Wshapes_Table6_1</th>\n",
       "    </tr>\n",
       "  </thead>\n",
       "  <tbody>\n",
       "  </tbody>\n",
       "</table>\n",
       "</div>"
      ],
      "text/plain": [
       "Empty DataFrame\n",
       "Columns: [profile, length_ft, weight_plf_w_shapes, Cb, Pr_over_Pc, Pr_k_w_shapes, Pc_k_w_shapes, Mmax_ftk_w_shapes, Mc_ftk_w_shapes, weight_plf_Wshapes_Table6_1, Pr_k_Wshapes_Table6_1, Pc_k_Wshapes_Table6_1, Mmax_ftk_Wshapes_Table6_1, Mc_ftk_Wshapes_Table6_1]\n",
       "Index: []"
      ]
     },
     "execution_count": 16,
     "metadata": {},
     "output_type": "execute_result"
    }
   ],
   "source": [
    "to_compare_columns = ['Pr_k', 'Pc_k', 'Mmax_ftk', 'Mc_ftk']\n",
    "\n",
    "passes2 = 0\n",
    "failures2 = 0\n",
    "threshold = 5.0\n",
    "failed_items2 = []\n",
    "\n",
    "for index, row in merged_df.iterrows():\n",
    "\n",
    "    differences = [calculate_percent_difference(row[f'{col}_w_shapes'], row[f'{col}_Wshapes_Table6_1']) for col in to_compare_columns]\n",
    "\n",
    "    if all(diff <= threshold for diff in differences):\n",
    "        passes2 += 1\n",
    "    else:\n",
    "        failures2 += 1\n",
    "        failed_items2.append(index)\n",
    "\n",
    "print('Threshold: ', threshold)\n",
    "print('Number of passes 2:', passes2)\n",
    "print('Number of failures 2:', failures2)\n",
    "print(\"Failed Items 2:\")\n",
    "merged_df.loc[failed_items2]"
   ]
  },
  {
   "cell_type": "code",
   "execution_count": 17,
   "metadata": {},
   "outputs": [
    {
     "name": "stdout",
     "output_type": "stream",
     "text": [
      "Number of passes 3 for the first 500 rows of merged_df: 500\n",
      "Number of failures 3 for the first 500 rows of merged_df: 0\n",
      "\n",
      "Failed Items Details for the first 500 rows of merged_df:\n"
     ]
    }
   ],
   "source": [
    "to_compare_columns = ['Pr_k', 'Pc_k', 'Mmax_ftk', 'Mc_ftk']\n",
    "passes3 = 0\n",
    "failures3 = 0\n",
    "threshold = 5.0\n",
    "failed_items_details3 = []\n",
    "\n",
    "for index, row in merged_df[:500].iterrows():\n",
    "    differences = [calculate_percent_difference(row[f'{col}_w_shapes'], row[f'{col}_Wshapes_Table6_1']) for col in to_compare_columns]\n",
    "\n",
    "    # Check if all differences are within 5%\n",
    "    if all(diff <= threshold for diff in differences):\n",
    "        passes3 += 1\n",
    "    else:\n",
    "        failures3 += 1\n",
    "        print(to_compare_columns)\n",
    "        print(differences)\n",
    "        print(row)\n",
    "        failed_items_details3.append({\n",
    "            'index': index,\n",
    "            'differences': {col: diff for col, diff in zip(to_compare_columns, differences)}\n",
    "        })\n",
    "\n",
    "# Print the number of passes and failures\n",
    "print('Number of passes 3 for the first 500 rows of merged_df:', passes3)\n",
    "print('Number of failures 3 for the first 500 rows of merged_df:', failures3)\n",
    "\n",
    "# Print details of failed items\n",
    "print(\"\\nFailed Items Details for the first 500 rows of merged_df:\")\n",
    "for failed_item in failed_items_details3:\n",
    "    print(f\"Failed item at index {failed_item['index']}:\")\n",
    "    for col, diff in failed_item['differences'].items():\n",
    "        if diff > threshold:\n",
    "            print(f\"  {col}: {diff:.2f}%\")\n"
   ]
  },
  {
   "cell_type": "code",
   "execution_count": 18,
   "metadata": {},
   "outputs": [
    {
     "name": "stdout",
     "output_type": "stream",
     "text": [
      "Pass/Fail counts for each column:\n",
      "Pr_k: Passes=514680, Failures=0\n",
      "Pc_k: Passes=514680, Failures=0\n",
      "Mmax_ftk: Passes=514680, Failures=0\n",
      "Mc_ftk: Passes=514680, Failures=0\n"
     ]
    }
   ],
   "source": [
    "numeric_columns = ['Pr_k', 'Pc_k', 'Mmax_ftk', 'Mc_ftk']\n",
    "pass_counts = {col: 0 for col in numeric_columns}\n",
    "fail_counts = {col: 0 for col in numeric_columns}\n",
    "\n",
    "# Create a list to store the details of failed items\n",
    "failed_items_details_df = []\n",
    "\n",
    "# Iterate through each row\n",
    "for index, row in merged_df.iterrows():\n",
    "    # Check the difference for each numeric column\n",
    "    differences = [calculate_percent_difference(row[f'{col}_w_shapes'], row[f'{col}_Wshapes_Table6_1']) for col in numeric_columns]\n",
    "\n",
    "    # Check if differences for each column are within 5%\n",
    "    for col, diff in zip(numeric_columns, differences):\n",
    "        if diff <= 5.0:\n",
    "            pass_counts[col] += 1\n",
    "        else:\n",
    "            fail_counts[col] += 1\n",
    "\n",
    "# Print the number of passes and failures for each column\n",
    "print('Pass/Fail counts for each column:')\n",
    "for col in numeric_columns:\n",
    "    print(f'{col}: Passes={pass_counts[col]}, Failures={fail_counts[col]}')"
   ]
  },
  {
   "cell_type": "code",
   "execution_count": null,
   "metadata": {},
   "outputs": [],
   "source": []
  }
 ],
 "metadata": {
  "kernelspec": {
   "display_name": "Python 3",
   "language": "python",
   "name": "python3"
  },
  "language_info": {
   "codemirror_mode": {
    "name": "ipython",
    "version": 3
   },
   "file_extension": ".py",
   "mimetype": "text/x-python",
   "name": "python",
   "nbconvert_exporter": "python",
   "pygments_lexer": "ipython3",
   "version": "3.11.6"
  },
  "orig_nbformat": 4
 },
 "nbformat": 4,
 "nbformat_minor": 2
}
